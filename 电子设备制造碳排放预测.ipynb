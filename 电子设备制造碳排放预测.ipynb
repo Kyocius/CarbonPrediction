{
 "cells": [
  {
   "cell_type": "markdown",
   "metadata": {},
   "source": [
    "# 电子设备制造业碳排放预测\n",
    "\n",
    "本notebook使用XGBoost模型对电子设备制造业企业的碳排放量进行预测。"
   ]
  },
  {
   "cell_type": "markdown",
   "metadata": {},
   "source": [
    "## 1. 导入必要的库"
   ]
  },
  {
   "cell_type": "code",
   "execution_count": 46,
   "metadata": {},
   "outputs": [],
   "source": [
    "import pandas as pd\n",
    "import numpy as np\n",
    "import matplotlib.pyplot as plt\n",
    "import seaborn as sns\n",
    "from sklearn.model_selection import train_test_split\n",
    "from sklearn.metrics import mean_squared_error, r2_score\n",
    "import xgboost as xgb\n",
    "from utils import ElectronicManufacturingEmissions\n",
    "import ipywidgets as widgets\n",
    "from IPython.display import display\n",
    "import re\n",
    "\n",
    "# 设置matplotlib显示中文\n",
    "plt.rcParams[\"font.sans-serif\"] = [\"SimHei\"]  # 使用SimHei字体显示中文\n",
    "plt.rcParams[\"axes.unicode_minus\"] = False  # 正常显示负号\n",
    "plt.style.use(\"ggplot\")  # 使用ggplot风格美化图表\n",
    "\n",
    "# 设置seaborn风格\n",
    "sns.set(font=\"SimHei\", font_scale=1.2)\n",
    "sns.set_style(\"whitegrid\", {\"font.sans-serif\": [\"SimHei\"]})"
   ]
  },
  {
   "cell_type": "markdown",
   "metadata": {},
   "source": [
    "## 2. 读取和处理数据集"
   ]
  },
  {
   "cell_type": "code",
   "execution_count": 47,
   "metadata": {},
   "outputs": [
    {
     "name": "stdout",
     "output_type": "stream",
     "text": []
    }
   ],
   "source": [
    "# 读取数据集\n",
    "df = pd.read_csv(\"./datasets/电子设备制造.csv\")\n",
    "df.head()"
   ]
  },
  {
   "cell_type": "code",
   "execution_count": 48,
   "metadata": {},
   "outputs": [
    {
     "name": "stdout",
     "output_type": "stream",
     "text": []
    }
   ],
   "source": [
    "# 查看数据基本信息\n",
    "df.info()"
   ]
  },
  {
   "cell_type": "code",
   "execution_count": 49,
   "metadata": {},
   "outputs": [
    {
     "name": "stdout",
     "output_type": "stream",
     "text": []
    }
   ],
   "source": [
    "# 数据预处理函数\n",
    "def preprocess_data(df):\n",
    "    # 创建数据副本\n",
    "    df_processed = df.copy()\n",
    "\n",
    "    # 处理化石燃料活动水平\n",
    "    def extract_fossil_fuel_data(row):\n",
    "        if \"天然气\" in row:\n",
    "            # 提取天然气的数量，单位为万m³\n",
    "            volume = float(re.search(r\"(\\d+)万m³\", row).group(1))\n",
    "            return volume, \"天然气\"\n",
    "        elif \"柴油\" in row:\n",
    "            # 提取柴油的数量，单位为吨\n",
    "            weight = float(re.search(r\"(\\d+)吨\", row).group(1))\n",
    "            return weight, \"柴油\"\n",
    "        return 0, \"unknown\"\n",
    "\n",
    "    # 提取燃料数量和类型\n",
    "    df_processed[\"燃料数量\"], df_processed[\"燃料类型\"] = zip(\n",
    "        *df_processed[\"化石燃料活动水平\"].apply(extract_fossil_fuel_data)\n",
    "    )\n",
    "\n",
    "    # 处理化石燃料排放因子 - 提取数值\n",
    "    df_processed[\"排放因子值\"] = (\n",
    "        df_processed[\"化石燃料排放因子\"].str.extract(r\"(\\d+\\.\\d+)\").astype(float)\n",
    "    )\n",
    "\n",
    "    # 处理生产过程排放量 - 移除逗号并转换为数字\n",
    "    df_processed[\"生产过程排放量\"] = (\n",
    "        df_processed[\"生产过程排放量\"].str.replace(\",\", \"\").astype(float)\n",
    "    )\n",
    "\n",
    "    # 处理净购入电量 - 移除逗号并转换为数字\n",
    "    df_processed[\"净购入电量\"] = (\n",
    "        df_processed[\"净购入电量\"].str.replace(\",\", \"\").astype(float)\n",
    "    )\n",
    "\n",
    "    # 提取区域电网排放因子数值\n",
    "    df_processed[\"电网排放因子值\"] = (\n",
    "        df_processed[\"区域电网排放因子\"].str.extract(r\"(\\d+\\.\\d+)\").astype(float)\n",
    "    )\n",
    "\n",
    "    # 提取供热排放因子数值\n",
    "    df_processed[\"供热排放因子值\"] = (\n",
    "        df_processed[\"供热排放因子\"].str.extract(r\"(\\d+\\.\\d+)\").astype(float)\n",
    "    )\n",
    "\n",
    "    # 处理碳排放量 - 移除逗号并转换为数字\n",
    "    df_processed[\"碳排放量\"] = (\n",
    "        df_processed[\"碳排放量\"].str.replace(\",\", \"\").astype(float)\n",
    "    )\n",
    "\n",
    "    return df_processed\n",
    "\n",
    "\n",
    "# 应用预处理\n",
    "df_processed = preprocess_data(df)\n",
    "df_processed.head()"
   ]
  },
  {
   "cell_type": "markdown",
   "metadata": {},
   "source": [
    "## 3. 使用utils.py中的函数计算total_emission"
   ]
  },
  {
   "cell_type": "code",
   "execution_count": 50,
   "metadata": {},
   "outputs": [
    {
     "name": "stdout",
     "output_type": "stream",
     "text": []
    }
   ],
   "source": [
    "# 根据数据行计算total_emission\n",
    "def calculate_emission_for_row(row):\n",
    "    # 准备参数\n",
    "    # 化石燃料活动水平和排放因子\n",
    "    AD_fossil_fuel = [row[\"燃料数量\"]]\n",
    "    EF_fossil_fuel = [row[\"排放因子值\"]]\n",
    "\n",
    "    # 生产过程排放量\n",
    "    E_process = row[\"生产过程排放量\"]\n",
    "\n",
    "    # 净购入电量和区域电网排放因子\n",
    "    purchased_electricity = row[\"净购入电量\"]\n",
    "    regional_grid_emission_factor = row[\"电网排放因子值\"]\n",
    "\n",
    "    # 净购入热力和供热排放因子\n",
    "    purchased_heat = row[\"净购入热力\"]\n",
    "    heat_supply_emission_factor = row[\"供热排放因子值\"]\n",
    "\n",
    "    # 调用utils.py中的函数计算排放量\n",
    "    total_emission = (\n",
    "        ElectronicManufacturingEmissions.calculate_electronic_manufacturing_emission(\n",
    "            AD_fossil_fuel=AD_fossil_fuel,\n",
    "            EF_fossil_fuel=EF_fossil_fuel,\n",
    "            E_process=E_process,\n",
    "            purchased_electricity=purchased_electricity,\n",
    "            regional_grid_emission_factor=regional_grid_emission_factor,\n",
    "            purchased_heat=purchased_heat,\n",
    "            heat_supply_emission_factor=heat_supply_emission_factor,\n",
    "        )\n",
    "    )\n",
    "\n",
    "    return total_emission\n",
    "\n",
    "\n",
    "# 计算每一行的total_emission\n",
    "df_processed[\"计算排放量\"] = df_processed.apply(calculate_emission_for_row, axis=1)\n",
    "\n",
    "# 查看结果\n",
    "df_processed[[\"企业\", \"年份\", \"计算排放量\", \"碳排放量\"]].head()"
   ]
  },
  {
   "cell_type": "code",
   "execution_count": 51,
   "metadata": {},
   "outputs": [
    {
     "name": "stdout",
     "output_type": "stream",
     "text": []
    }
   ],
   "source": [
    "# 比较计算排放量与实际碳排放量\n",
    "plt.figure(figsize=(10, 6))\n",
    "plt.scatter(df_processed[\"计算排放量\"], df_processed[\"碳排放量\"])\n",
    "plt.plot(\n",
    "    [df_processed[\"碳排放量\"].min(), df_processed[\"碳排放量\"].max()],\n",
    "    [df_processed[\"碳排放量\"].min(), df_processed[\"碳排放量\"].max()],\n",
    "    \"k--\",\n",
    ")\n",
    "plt.xlabel(\"计算排放量\")\n",
    "plt.ylabel(\"实际碳排放量\")\n",
    "plt.title(\"计算排放量与实际碳排放量的对比\")\n",
    "plt.grid(True)\n",
    "plt.show()"
   ]
  },
  {
   "cell_type": "markdown",
   "metadata": {},
   "source": [
    "## 4. 训练XGBoost模型"
   ]
  },
  {
   "cell_type": "code",
   "execution_count": 52,
   "metadata": {},
   "outputs": [],
   "source": [
    "# 准备特征和目标变量\n",
    "X = df_processed[\n",
    "    [\n",
    "        \"计算排放量\",\n",
    "        \"燃料数量\",\n",
    "        \"排放因子值\",\n",
    "        \"生产过程排放量\",\n",
    "        \"净购入电量\",\n",
    "        \"电网排放因子值\",\n",
    "        \"净购入热力\",\n",
    "        \"供热排放因子值\",\n",
    "    ]\n",
    "]\n",
    "y = df_processed[\"碳排放量\"]\n",
    "\n",
    "# 划分训练集和测试集\n",
    "X_train, X_test, y_train, y_test = train_test_split(\n",
    "    X, y, test_size=0.2, random_state=42\n",
    ")\n",
    "\n",
    "# 训练XGBoost模型\n",
    "model = xgb.XGBRegressor(\n",
    "    objective=\"reg:squarederror\",\n",
    "    n_estimators=100,\n",
    "    learning_rate=0.1,\n",
    "    max_depth=5,\n",
    "    subsample=0.8,\n",
    "    colsample_bytree=0.8,\n",
    "    random_state=42,\n",
    ")\n",
    "\n",
    "model.fit(X_train, y_train)\n",
    "\n",
    "# 预测\n",
    "y_pred = model.predict(X_test)"
   ]
  },
  {
   "cell_type": "markdown",
   "metadata": {},
   "source": [
    "## 5. 评估模型性能"
   ]
  },
  {
   "cell_type": "code",
   "execution_count": 53,
   "metadata": {},
   "outputs": [
    {
     "name": "stdout",
     "output_type": "stream",
     "text": []
    },
    {
     "name": "stdout",
     "output_type": "stream",
     "text": []
    }
   ],
   "source": [
    "# 计算评估指标\n",
    "rmse = np.sqrt(mean_squared_error(y_test, y_pred))\n",
    "r2 = r2_score(y_test, y_pred)\n",
    "\n",
    "print(f\"RMSE: {rmse:.2f}\")\n",
    "print(f\"R² Score: {r2:.4f}\")\n",
    "\n",
    "# 绘制实际值与预测值的对比图\n",
    "plt.figure(figsize=(10, 6))\n",
    "plt.scatter(y_test, y_pred, alpha=0.7)\n",
    "plt.plot([y_test.min(), y_test.max()], [y_test.min(), y_test.max()], \"r--\")\n",
    "plt.xlabel(\"实际碳排放量\")\n",
    "plt.ylabel(\"预测碳排放量\")\n",
    "plt.title(\"实际碳排放量 vs 预测碳排放量\")\n",
    "plt.grid(True)\n",
    "plt.show()"
   ]
  },
  {
   "cell_type": "code",
   "execution_count": 54,
   "metadata": {},
   "outputs": [
    {
     "name": "stdout",
     "output_type": "stream",
     "text": []
    },
    {
     "name": "stdout",
     "output_type": "stream",
     "text": []
    }
   ],
   "source": [
    "# 特征重要性\n",
    "plt.figure(figsize=(10, 6))\n",
    "xgb.plot_importance(model, importance_type=\"gain\")\n",
    "plt.title(\"特征重要性\")\n",
    "plt.grid(False)\n",
    "plt.show()"
   ]
  },
  {
   "cell_type": "markdown",
   "metadata": {},
   "source": [
    "## 6. 创建预测GUI"
   ]
  },
  {
   "cell_type": "code",
   "execution_count": null,
   "metadata": {},
   "outputs": [
    {
     "name": "stdout",
     "output_type": "stream",
     "text": []
    }
   ],
   "source": [
    "# 创建简单的GUI用于预测\n",
    "def create_prediction_ui():\n",
    "    # 创建输入部件\n",
    "    fuel_type = widgets.Dropdown(\n",
    "        options=[\"天然气\", \"柴油\"],\n",
    "        description=\"燃料类型:\",\n",
    "        disabled=False,\n",
    "    )\n",
    "\n",
    "    fuel_amount = widgets.FloatText(\n",
    "        value=100.0,\n",
    "        description=\"燃料数量:\",\n",
    "        tooltip=\"天然气(万m³)或柴油(吨)\",\n",
    "    )\n",
    "\n",
    "    emission_factor = widgets.FloatText(\n",
    "        value=2.75,\n",
    "        description=\"排放因子:\",\n",
    "        tooltip=\"化石燃料排放因子\",\n",
    "    )\n",
    "\n",
    "    process_emission = widgets.FloatText(\n",
    "        value=1000.0,\n",
    "        description=\"过程排放:\",\n",
    "        tooltip=\"生产过程排放量\",\n",
    "    )\n",
    "\n",
    "    electricity = widgets.FloatText(\n",
    "        value=150000.0,\n",
    "        description=\"净购入电量:\",\n",
    "    )\n",
    "\n",
    "    grid_factor = widgets.FloatText(\n",
    "        value=0.7,\n",
    "        description=\"电网因子:\",\n",
    "        tooltip=\"区域电网排放因子\",\n",
    "    )\n",
    "\n",
    "    heat = widgets.FloatText(\n",
    "        value=3.0,\n",
    "        description=\"净购入热力:\",\n",
    "    )\n",
    "\n",
    "    heat_factor = widgets.FloatText(\n",
    "        value=0.09,\n",
    "        description=\"热力因子:\",\n",
    "        tooltip=\"供热排放因子\",\n",
    "    )\n",
    "\n",
    "    output = widgets.Output()\n",
    "\n",
    "    # 预测按钮和功能\n",
    "    def on_predict_button_clicked(b):\n",
    "        with output:\n",
    "            output.clear_output()\n",
    "\n",
    "            # 准备数据\n",
    "            AD_fossil_fuel = [fuel_amount.value]\n",
    "            EF_fossil_fuel = [emission_factor.value]\n",
    "            E_process = process_emission.value\n",
    "            purchased_electricity = electricity.value\n",
    "            regional_grid_emission_factor = grid_factor.value\n",
    "            purchased_heat = heat.value\n",
    "            heat_supply_emission_factor = heat_factor.value\n",
    "\n",
    "            # 计算排放量\n",
    "            calculated_emission = ElectronicManufacturingEmissions.calculate_electronic_manufacturing_emission(\n",
    "                AD_fossil_fuel=AD_fossil_fuel,\n",
    "                EF_fossil_fuel=EF_fossil_fuel,\n",
    "                E_process=E_process,\n",
    "                purchased_electricity=purchased_electricity,\n",
    "                regional_grid_emission_factor=regional_grid_emission_factor,\n",
    "                purchased_heat=purchased_heat,\n",
    "                heat_supply_emission_factor=heat_supply_emission_factor,\n",
    "            )\n",
    "\n",
    "            # 使用XGBoost模型预测\n",
    "            input_data = pd.DataFrame(\n",
    "                {\n",
    "                    \"计算排放量\": [calculated_emission],\n",
    "                    \"燃料数量\": [fuel_amount.value],\n",
    "                    \"排放因子值\": [emission_factor.value],\n",
    "                    \"生产过程排放量\": [process_emission.value],\n",
    "                    \"净购入电量\": [purchased_electricity],\n",
    "                    \"电网排放因子值\": [regional_grid_emission_factor],\n",
    "                    \"净购入热力\": [purchased_heat],\n",
    "                    \"供热排放因子值\": [heat_supply_emission_factor],\n",
    "                }\n",
    "            )\n",
    "\n",
    "            predicted_emission = model.predict(input_data)[0]\n",
    "\n",
    "            print(f\"理论计算排放量: {calculated_emission:.2f} tCO2e\")\n",
    "            print(f\"模型预测排放量: {predicted_emission:.2f} tCO2e\")\n",
    "\n",
    "    predict_button = widgets.Button(\n",
    "        description=\"预测排放量\", button_style=\"success\", tooltip=\"点击预测碳排放量\"\n",
    "    )\n",
    "    predict_button.on_click(on_predict_button_clicked)\n",
    "\n",
    "    # 组合UI元素\n",
    "    input_widgets = widgets.VBox(\n",
    "        [\n",
    "            widgets.HBox([fuel_type, fuel_amount]),\n",
    "            widgets.HBox([emission_factor, process_emission]),\n",
    "            widgets.HBox([electricity, grid_factor]),\n",
    "            widgets.HBox([heat, heat_factor]),\n",
    "            predict_button,\n",
    "            output,\n",
    "        ]\n",
    "    )\n",
    "\n",
    "    return input_widgets\n",
    "\n",
    "\n",
    "# 显示预测界面\n",
    "ui = create_prediction_ui()\n",
    "display(ui)"
   ]
  }
 ],
 "metadata": {
  "kernelspec": {
   "display_name": "citi",
   "language": "python",
   "name": "python3"
  },
  "language_info": {
   "codemirror_mode": {
    "name": "ipython",
    "version": 3
   },
   "file_extension": ".py",
   "mimetype": "text/x-python",
   "name": "python",
   "nbconvert_exporter": "python",
   "pygments_lexer": "ipython3",
   "version": "3.9.21"
  }
 },
 "nbformat": 4,
 "nbformat_minor": 2
}
