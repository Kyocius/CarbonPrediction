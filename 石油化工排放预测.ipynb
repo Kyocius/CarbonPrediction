{
 "cells": [
  {
   "cell_type": "markdown",
   "metadata": {},
   "source": [
    "# 石油化工行业碳排放预测模型\n",
    "\n",
    "本模型使用 XGBoost 机器学习算法，基于石油化工行业的相关数据预测碳排放量。"
   ]
  },
  {
   "cell_type": "code",
   "execution_count": 91,
   "metadata": {},
   "outputs": [],
   "source": [
    "# 导入所需库\n",
    "import pandas as pd\n",
    "import numpy as np\n",
    "import matplotlib.pyplot as plt\n",
    "import seaborn as sns\n",
    "import re\n",
    "from sklearn.model_selection import train_test_split\n",
    "from sklearn.preprocessing import StandardScaler\n",
    "from sklearn.metrics import mean_squared_error, r2_score\n",
    "import xgboost as xgb\n",
    "import ipywidgets as widgets\n",
    "from ipywidgets import interact, fixed\n",
    "from IPython.display import display\n",
    "\n",
    "# 导入自定义函数\n",
    "from utils import PetrochemicalEmissions\n",
    "\n",
    "plt.rcParams[\"font.sans-serif\"] = [\"SimHei\"]\n",
    "plt.rcParams[\"axes.unicode_minus\"] = False"
   ]
  },
  {
   "cell_type": "markdown",
   "metadata": {},
   "source": [
    "## 1. 数据加载与预处理"
   ]
  },
  {
   "cell_type": "code",
   "execution_count": 92,
   "metadata": {},
   "outputs": [
    {
     "data": {
      "text/html": [
       "<div>\n",
       "<style scoped>\n",
       "    .dataframe tbody tr th:only-of-type {\n",
       "        vertical-align: middle;\n",
       "    }\n",
       "\n",
       "    .dataframe tbody tr th {\n",
       "        vertical-align: top;\n",
       "    }\n",
       "\n",
       "    .dataframe thead th {\n",
       "        text-align: right;\n",
       "    }\n",
       "</style>\n",
       "<table border=\"1\" class=\"dataframe\">\n",
       "  <thead>\n",
       "    <tr style=\"text-align: right;\">\n",
       "      <th></th>\n",
       "      <th>企业</th>\n",
       "      <th>化石燃料活动水平</th>\n",
       "      <th>化石燃料排放因子</th>\n",
       "      <th>碳排放量</th>\n",
       "    </tr>\n",
       "  </thead>\n",
       "  <tbody>\n",
       "    <tr>\n",
       "      <th>0</th>\n",
       "      <td>中国石化-镇海炼化（浙江）</td>\n",
       "      <td>1,200 (原油)</td>\n",
       "      <td>3.15</td>\n",
       "      <td>3,780.00</td>\n",
       "    </tr>\n",
       "    <tr>\n",
       "      <th>1</th>\n",
       "      <td>中国石油-大庆石化（黑龙江）</td>\n",
       "      <td>950 (原油)</td>\n",
       "      <td>3.15</td>\n",
       "      <td>2,992.50</td>\n",
       "    </tr>\n",
       "    <tr>\n",
       "      <th>2</th>\n",
       "      <td>恒力石化-大连长兴岛（辽宁）</td>\n",
       "      <td>1,500 (原油)</td>\n",
       "      <td>3.15</td>\n",
       "      <td>4,725.00</td>\n",
       "    </tr>\n",
       "    <tr>\n",
       "      <th>3</th>\n",
       "      <td>中国海油-惠州炼化（广东）</td>\n",
       "      <td>1,100 (原油)</td>\n",
       "      <td>3.10</td>\n",
       "      <td>3,410.00</td>\n",
       "    </tr>\n",
       "    <tr>\n",
       "      <th>4</th>\n",
       "      <td>荣盛石化-舟山基地（浙江）</td>\n",
       "      <td>1,800 (原油)</td>\n",
       "      <td>3.15</td>\n",
       "      <td>5,670.00</td>\n",
       "    </tr>\n",
       "  </tbody>\n",
       "</table>\n",
       "</div>"
      ],
      "text/plain": [
       "               企业    化石燃料活动水平  化石燃料排放因子      碳排放量\n",
       "0   中国石化-镇海炼化（浙江）  1,200 (原油)      3.15  3,780.00\n",
       "1  中国石油-大庆石化（黑龙江）    950 (原油)      3.15  2,992.50\n",
       "2  恒力石化-大连长兴岛（辽宁）  1,500 (原油)      3.15  4,725.00\n",
       "3   中国海油-惠州炼化（广东）  1,100 (原油)      3.10  3,410.00\n",
       "4   荣盛石化-舟山基地（浙江）  1,800 (原油)      3.15  5,670.00"
      ]
     },
     "execution_count": 92,
     "metadata": {},
     "output_type": "execute_result"
    }
   ],
   "source": [
    "# 读取数据\n",
    "df = pd.read_csv(\"./datasets/石油化工.csv\")\n",
    "df.head()"
   ]
  },
  {
   "cell_type": "code",
   "execution_count": 93,
   "metadata": {},
   "outputs": [],
   "source": [
    "# 数据预处理函数 - 去除括号及括号内内容\n",
    "def clean_brackets(text):\n",
    "    if isinstance(text, str):\n",
    "        # 去除括号及其中文内容\n",
    "        return re.sub(r\"\\([^)]*\\)\", \"\", text).strip()\n",
    "    return text\n",
    "\n",
    "\n",
    "# 去除数字中的逗号\n",
    "def remove_commas(text):\n",
    "    if isinstance(text, str):\n",
    "        return text.replace(\",\", \"\")\n",
    "    return text"
   ]
  },
  {
   "cell_type": "code",
   "execution_count": 94,
   "metadata": {},
   "outputs": [
    {
     "data": {
      "text/html": [
       "<div>\n",
       "<style scoped>\n",
       "    .dataframe tbody tr th:only-of-type {\n",
       "        vertical-align: middle;\n",
       "    }\n",
       "\n",
       "    .dataframe tbody tr th {\n",
       "        vertical-align: top;\n",
       "    }\n",
       "\n",
       "    .dataframe thead th {\n",
       "        text-align: right;\n",
       "    }\n",
       "</style>\n",
       "<table border=\"1\" class=\"dataframe\">\n",
       "  <thead>\n",
       "    <tr style=\"text-align: right;\">\n",
       "      <th></th>\n",
       "      <th>企业</th>\n",
       "      <th>化石燃料活动水平</th>\n",
       "      <th>化石燃料排放因子</th>\n",
       "      <th>碳排放量</th>\n",
       "    </tr>\n",
       "  </thead>\n",
       "  <tbody>\n",
       "    <tr>\n",
       "      <th>0</th>\n",
       "      <td>中国石化-镇海炼化（浙江）</td>\n",
       "      <td>1200</td>\n",
       "      <td>3.15</td>\n",
       "      <td>3780.0</td>\n",
       "    </tr>\n",
       "    <tr>\n",
       "      <th>1</th>\n",
       "      <td>中国石油-大庆石化（黑龙江）</td>\n",
       "      <td>950</td>\n",
       "      <td>3.15</td>\n",
       "      <td>2992.5</td>\n",
       "    </tr>\n",
       "    <tr>\n",
       "      <th>2</th>\n",
       "      <td>恒力石化-大连长兴岛（辽宁）</td>\n",
       "      <td>1500</td>\n",
       "      <td>3.15</td>\n",
       "      <td>4725.0</td>\n",
       "    </tr>\n",
       "    <tr>\n",
       "      <th>3</th>\n",
       "      <td>中国海油-惠州炼化（广东）</td>\n",
       "      <td>1100</td>\n",
       "      <td>3.10</td>\n",
       "      <td>3410.0</td>\n",
       "    </tr>\n",
       "    <tr>\n",
       "      <th>4</th>\n",
       "      <td>荣盛石化-舟山基地（浙江）</td>\n",
       "      <td>1800</td>\n",
       "      <td>3.15</td>\n",
       "      <td>5670.0</td>\n",
       "    </tr>\n",
       "  </tbody>\n",
       "</table>\n",
       "</div>"
      ],
      "text/plain": [
       "               企业  化石燃料活动水平  化石燃料排放因子    碳排放量\n",
       "0   中国石化-镇海炼化（浙江）      1200      3.15  3780.0\n",
       "1  中国石油-大庆石化（黑龙江）       950      3.15  2992.5\n",
       "2  恒力石化-大连长兴岛（辽宁）      1500      3.15  4725.0\n",
       "3   中国海油-惠州炼化（广东）      1100      3.10  3410.0\n",
       "4   荣盛石化-舟山基地（浙江）      1800      3.15  5670.0"
      ]
     },
     "execution_count": 94,
     "metadata": {},
     "output_type": "execute_result"
    }
   ],
   "source": [
    "# 应用预处理函数\n",
    "df_clean = df.copy()\n",
    "\n",
    "# 处理化石燃料活动水平列\n",
    "df_clean[\"化石燃料活动水平\"] = df_clean[\"化石燃料活动水平\"].apply(remove_commas)\n",
    "df_clean[\"化石燃料活动水平\"] = df_clean[\"化石燃料活动水平\"].apply(clean_brackets)\n",
    "df_clean[\"化石燃料活动水平\"] = pd.to_numeric(df_clean[\"化石燃料活动水平\"])\n",
    "\n",
    "# 处理化石燃料排放因子列\n",
    "df_clean[\"化石燃料排放因子\"] = df_clean[\"化石燃料排放因子\"].apply(clean_brackets)\n",
    "df_clean[\"化石燃料排放因子\"] = pd.to_numeric(df_clean[\"化石燃料排放因子\"])\n",
    "\n",
    "# 处理碳排放量列\n",
    "df_clean[\"碳排放量\"] = df_clean[\"碳排放量\"].apply(remove_commas)\n",
    "df_clean[\"碳排放量\"] = pd.to_numeric(df_clean[\"碳排放量\"])\n",
    "\n",
    "df_clean.head()"
   ]
  },
  {
   "cell_type": "markdown",
   "metadata": {},
   "source": [
    "## 2. 使用 utils.py 中的函数计算总排放量"
   ]
  },
  {
   "cell_type": "code",
   "execution_count": 95,
   "metadata": {},
   "outputs": [
    {
     "data": {
      "text/html": [
       "<div>\n",
       "<style scoped>\n",
       "    .dataframe tbody tr th:only-of-type {\n",
       "        vertical-align: middle;\n",
       "    }\n",
       "\n",
       "    .dataframe tbody tr th {\n",
       "        vertical-align: top;\n",
       "    }\n",
       "\n",
       "    .dataframe thead th {\n",
       "        text-align: right;\n",
       "    }\n",
       "</style>\n",
       "<table border=\"1\" class=\"dataframe\">\n",
       "  <thead>\n",
       "    <tr style=\"text-align: right;\">\n",
       "      <th></th>\n",
       "      <th>企业</th>\n",
       "      <th>化石燃料活动水平</th>\n",
       "      <th>化石燃料排放因子</th>\n",
       "      <th>碳排放量</th>\n",
       "      <th>计算排放量</th>\n",
       "    </tr>\n",
       "  </thead>\n",
       "  <tbody>\n",
       "    <tr>\n",
       "      <th>0</th>\n",
       "      <td>中国石化-镇海炼化（浙江）</td>\n",
       "      <td>1200</td>\n",
       "      <td>3.15</td>\n",
       "      <td>3780.0</td>\n",
       "      <td>3780.0</td>\n",
       "    </tr>\n",
       "    <tr>\n",
       "      <th>1</th>\n",
       "      <td>中国石油-大庆石化（黑龙江）</td>\n",
       "      <td>950</td>\n",
       "      <td>3.15</td>\n",
       "      <td>2992.5</td>\n",
       "      <td>2992.5</td>\n",
       "    </tr>\n",
       "    <tr>\n",
       "      <th>2</th>\n",
       "      <td>恒力石化-大连长兴岛（辽宁）</td>\n",
       "      <td>1500</td>\n",
       "      <td>3.15</td>\n",
       "      <td>4725.0</td>\n",
       "      <td>4725.0</td>\n",
       "    </tr>\n",
       "    <tr>\n",
       "      <th>3</th>\n",
       "      <td>中国海油-惠州炼化（广东）</td>\n",
       "      <td>1100</td>\n",
       "      <td>3.10</td>\n",
       "      <td>3410.0</td>\n",
       "      <td>3410.0</td>\n",
       "    </tr>\n",
       "    <tr>\n",
       "      <th>4</th>\n",
       "      <td>荣盛石化-舟山基地（浙江）</td>\n",
       "      <td>1800</td>\n",
       "      <td>3.15</td>\n",
       "      <td>5670.0</td>\n",
       "      <td>5670.0</td>\n",
       "    </tr>\n",
       "  </tbody>\n",
       "</table>\n",
       "</div>"
      ],
      "text/plain": [
       "               企业  化石燃料活动水平  化石燃料排放因子    碳排放量   计算排放量\n",
       "0   中国石化-镇海炼化（浙江）      1200      3.15  3780.0  3780.0\n",
       "1  中国石油-大庆石化（黑龙江）       950      3.15  2992.5  2992.5\n",
       "2  恒力石化-大连长兴岛（辽宁）      1500      3.15  4725.0  4725.0\n",
       "3   中国海油-惠州炼化（广东）      1100      3.10  3410.0  3410.0\n",
       "4   荣盛石化-舟山基地（浙江）      1800      3.15  5670.0  5670.0"
      ]
     },
     "execution_count": 95,
     "metadata": {},
     "output_type": "execute_result"
    }
   ],
   "source": [
    "# 使用 PetrochemicalEmissions 类计算石油化工企业化石燃料排放\n",
    "df_clean[\"计算排放量\"] = df_clean.apply(\n",
    "    lambda row: PetrochemicalEmissions.calculate_petrochemical_fossil_fuel_emission(\n",
    "        row[\"化石燃料活动水平\"], row[\"化石燃料排放因子\"]\n",
    "    ),\n",
    "    axis=1,\n",
    ")\n",
    "\n",
    "# 显示计算结果\n",
    "df_clean[\n",
    "    [\"企业\", \"化石燃料活动水平\", \"化石燃料排放因子\", \"碳排放量\", \"计算排放量\"]\n",
    "].head()"
   ]
  },
  {
   "cell_type": "code",
   "execution_count": 96,
   "metadata": {},
   "outputs": [
    {
     "data": {
      "image/png": "[encoded data removed]",
      "text/plain": [
       "<Figure size 1000x600 with 1 Axes>"
      ]
     },
     "metadata": {},
     "output_type": "display_data"
    },
    {
     "name": "stdout",
     "output_type": "stream",
     "text": [
      "原始碳排放量和计算碳排放量的相关性: 1.0000\n"
     ]
    }
   ],
   "source": [
    "# 比较原始排放量和计算排放量\n",
    "plt.figure(figsize=(10, 6))\n",
    "plt.scatter(df_clean[\"碳排放量\"], df_clean[\"计算排放量\"])\n",
    "plt.plot(\n",
    "    [df_clean[\"碳排放量\"].min(), df_clean[\"碳排放量\"].max()],\n",
    "    [df_clean[\"碳排放量\"].min(), df_clean[\"碳排放量\"].max()],\n",
    "    \"r--\",\n",
    ")\n",
    "plt.xlabel(\"原始碳排放量\")\n",
    "plt.ylabel(\"计算碳排放量\")\n",
    "plt.title(\"原始碳排放量 vs 计算碳排放量比较\")\n",
    "plt.grid(True)\n",
    "plt.show()\n",
    "\n",
    "# 计算相关性\n",
    "correlation = df_clean[\"碳排放量\"].corr(df_clean[\"计算排放量\"])\n",
    "print(f\"原始碳排放量和计算碳排放量的相关性: {correlation:.4f}\")"
   ]
  },
  {
   "cell_type": "markdown",
   "metadata": {},
   "source": [
    "## 3. 特征工程与模型训练"
   ]
  },
  {
   "cell_type": "code",
   "execution_count": 97,
   "metadata": {},
   "outputs": [],
   "source": [
    "# 选择特征和目标变量\n",
    "features = [\"化石燃料活动水平\", \"化石燃料排放因子\", \"计算排放量\"]\n",
    "X = df_clean[features]\n",
    "y = df_clean[\"碳排放量\"]\n",
    "\n",
    "# 划分训练集和测试集\n",
    "X_train, X_test, y_train, y_test = train_test_split(\n",
    "    X, y, test_size=0.2, random_state=42\n",
    ")\n",
    "\n",
    "# 标准化特征 (不标准化目标变量)\n",
    "scaler = StandardScaler()\n",
    "X_train_scaled = scaler.fit_transform(X_train)\n",
    "X_test_scaled = scaler.transform(X_test)"
   ]
  },
  {
   "cell_type": "code",
   "execution_count": 98,
   "metadata": {},
   "outputs": [
    {
     "name": "stdout",
     "output_type": "stream",
     "text": [
      "均方误差 (MSE): 85406.9829\n",
      "决定系数 (R²): 0.8947\n"
     ]
    },
    {
     "data": {
      "image/png": "[encoded data removed]",
      "text/plain": [
       "<Figure size 1000x600 with 1 Axes>"
      ]
     },
     "metadata": {},
     "output_type": "display_data"
    }
   ],
   "source": [
    "# 创建并训练 XGBoost 模型\n",
    "xgb_model = xgb.XGBRegressor(\n",
    "    objective=\"reg:squarederror\",\n",
    "    n_estimators=100,\n",
    "    learning_rate=0.1,\n",
    "    max_depth=4,\n",
    "    random_state=42,\n",
    ")\n",
    "\n",
    "# 训练模型\n",
    "xgb_model.fit(X_train_scaled, y_train)\n",
    "\n",
    "# 在测试集上进行预测\n",
    "y_pred = xgb_model.predict(X_test_scaled)\n",
    "\n",
    "# 评估模型\n",
    "mse = mean_squared_error(y_test, y_pred)\n",
    "r2 = r2_score(y_test, y_pred)\n",
    "\n",
    "print(f\"均方误差 (MSE): {mse:.4f}\")\n",
    "print(f\"决定系数 (R²): {r2:.4f}\")\n",
    "\n",
    "# 显示预测结果与实际值的对比\n",
    "plt.figure(figsize=(10, 6))\n",
    "plt.scatter(y_test, y_pred)\n",
    "plt.plot([y_test.min(), y_test.max()], [y_test.min(), y_test.max()], \"r--\")\n",
    "plt.xlabel(\"实际碳排放量\")\n",
    "plt.ylabel(\"预测碳排放量\")\n",
    "plt.title(\"实际值 vs 预测值比较\")\n",
    "plt.grid(True)\n",
    "plt.show()"
   ]
  },
  {
   "cell_type": "markdown",
   "metadata": {},
   "source": [
    "## 4. 交互式预测界面"
   ]
  },
  {
   "cell_type": "code",
   "execution_count": 99,
   "metadata": {},
   "outputs": [],
   "source": [
    "# 创建预测函数\n",
    "def predict_emission(活动水平, 排放因子):\n",
    "    # 计算排放量\n",
    "    计算排放量 = PetrochemicalEmissions.calculate_petrochemical_fossil_fuel_emission(\n",
    "        活动水平, 排放因子\n",
    "    )\n",
    "\n",
    "    # 创建预测所需的特征数组\n",
    "    features_input = np.zeros(3)  # 6个特征\n",
    "    features_input[0] = 活动水平\n",
    "    features_input[1] = 排放因子\n",
    "    features_input[2] = 计算排放量\n",
    "\n",
    "    # 标准化特征\n",
    "    features_scaled = scaler.transform(features_input.reshape(1, -1))\n",
    "\n",
    "    # 预测\n",
    "    prediction = xgb_model.predict(features_scaled)[0]\n",
    "\n",
    "    # 显示结果\n",
    "    print(f\"输入参数:\")\n",
    "    print(f\"  - 化石燃料活动水平: {活动水平}\")\n",
    "    print(f\"  - 化石燃料排放因子: {排放因子}\")\n",
    "    print(f\"计算的初始排放量: {计算排放量:.2f}\")\n",
    "    print(f\"模型预测的碳排放量: {prediction:.2f}\")"
   ]
  },
  {
   "cell_type": "code",
   "execution_count": 100,
   "metadata": {},
   "outputs": [
    {
     "data": {
      "application/vnd.jupyter.widget-view+json": {
       "model_id": "70affd3ac6dd46ef8223ecc3db295e72",
       "version_major": 2,
       "version_minor": 0
      },
      "text/plain": [
       "HTML(value='<h3>石油化工行业碳排放预测</h3>')"
      ]
     },
     "metadata": {},
     "output_type": "display_data"
    },
    {
     "data": {
      "application/vnd.jupyter.widget-view+json": {
       "model_id": "7d67951863af4f7facf2dbc860f7d771",
       "version_major": 2,
       "version_minor": 0
      },
      "text/plain": [
       "HTML(value='<p>请调整以下参数，然后点击预测按钮查看结果</p>')"
      ]
     },
     "metadata": {},
     "output_type": "display_data"
    },
    {
     "data": {
      "application/vnd.jupyter.widget-view+json": {
       "model_id": "50ed6c065c82439fa0a3d552ab818391",
       "version_major": 2,
       "version_minor": 0
      },
      "text/plain": [
       "FloatSlider(value=1200.0, continuous_update=False, description='活动水平:', max=2000.0, min=400.0, step=50.0)"
      ]
     },
     "metadata": {},
     "output_type": "display_data"
    },
    {
     "data": {
      "application/vnd.jupyter.widget-view+json": {
       "model_id": "caae3ef1933649aa9b1f805b81eb3352",
       "version_major": 2,
       "version_minor": 0
      },
      "text/plain": [
       "FloatSlider(value=3.15, continuous_update=False, description='排放因子:', max=3.5, min=2.4, step=0.05)"
      ]
     },
     "metadata": {},
     "output_type": "display_data"
    },
    {
     "data": {
      "application/vnd.jupyter.widget-view+json": {
       "model_id": "c0459a319b394d8aac4c1a543fe26e45",
       "version_major": 2,
       "version_minor": 0
      },
      "text/plain": [
       "Button(button_style='success', description='预测碳排放量', style=ButtonStyle(), tooltip='点击进行预测')"
      ]
     },
     "metadata": {},
     "output_type": "display_data"
    },
    {
     "data": {
      "application/vnd.jupyter.widget-view+json": {
       "model_id": "f87ad87a470b4153b7288c3816e1d452",
       "version_major": 2,
       "version_minor": 0
      },
      "text/plain": [
       "Output()"
      ]
     },
     "metadata": {},
     "output_type": "display_data"
    }
   ],
   "source": [
    "# 创建交互式控件\n",
    "活动水平_slider = widgets.FloatSlider(\n",
    "    value=1200,\n",
    "    min=400,\n",
    "    max=2000,\n",
    "    step=50,\n",
    "    description=\"活动水平:\",\n",
    "    continuous_update=False,\n",
    ")\n",
    "\n",
    "排放因子_slider = widgets.FloatSlider(\n",
    "    value=3.15,\n",
    "    min=2.4,\n",
    "    max=3.5,\n",
    "    step=0.05,\n",
    "    description=\"排放因子:\",\n",
    "    continuous_update=False,\n",
    ")\n",
    "\n",
    "\n",
    "# 创建输出控件\n",
    "output = widgets.Output()\n",
    "\n",
    "# 创建按钮\n",
    "button = widgets.Button(\n",
    "    description=\"预测碳排放量\", button_style=\"success\", tooltip=\"点击进行预测\"\n",
    ")\n",
    "\n",
    "\n",
    "# 按钮点击事件处理函数\n",
    "def on_button_clicked(b):\n",
    "    with output:\n",
    "        output.clear_output()\n",
    "        predict_emission(活动水平_slider.value, 排放因子_slider.value)\n",
    "\n",
    "\n",
    "button.on_click(on_button_clicked)\n",
    "\n",
    "# 创建信息性标签\n",
    "title = widgets.HTML(value=\"<h3>石油化工行业碳排放预测</h3>\")\n",
    "description = widgets.HTML(value=\"<p>请调整以下参数，然后点击预测按钮查看结果</p>\")\n",
    "\n",
    "# 显示界面\n",
    "display(title, description, 活动水平_slider, 排放因子_slider, button, output)"
   ]
  },
  {
   "cell_type": "markdown",
   "metadata": {},
   "source": [
    "## 5. 模型总结\n",
    "\n",
    "本模型使用 XGBoost 算法，基于石油化工行业的化石燃料活动水平、排放因子和年份数据预测碳排放量。通过交互式界面，用户可以输入不同的参数值，获取相应的碳排放预测结果。\n",
    "\n",
    "主要特点：\n",
    "1. 利用了 utils.py 中的石油化工排放计算函数\n",
    "2. 对原始数据进行了预处理，去除括号和中文描述\n",
    "3. 构建了高精度的 XGBoost 预测模型\n",
    "4. 提供了交互式预测界面\n",
    "\n",
    "该模型可用于石油化工企业的碳排放预测和管理，帮助企业了解不同活动水平和排放因子下的潜在碳排放情况。"
   ]
  }
 ],
 "metadata": {
  "kernelspec": {
   "display_name": "citi",
   "language": "python",
   "name": "python3"
  },
  "language_info": {
   "codemirror_mode": {
    "name": "ipython",
    "version": 3
   },
   "file_extension": ".py",
   "mimetype": "text/x-python",
   "name": "python",
   "nbconvert_exporter": "python",
   "pygments_lexer": "ipython3",
   "version": "3.9.21"
  }
 },
 "nbformat": 4,
 "nbformat_minor": 2
}
